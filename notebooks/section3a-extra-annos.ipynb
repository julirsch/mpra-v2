{
 "cells": [
  {
   "cell_type": "code",
   "execution_count": null,
   "metadata": {},
   "outputs": [],
   "source": [
    "setwd('/srv/scratch/nsabell/mpra-v2')\n",
    "lib.loc='~/R'\n",
    "library(tidyverse)\n",
    "library(GGally)\n",
    "library(RColorBrewer)\n",
    "library(viridis)\n",
    "library(ggrepel)\n",
    "library(data.table)\n",
    "library(ggpubr)\n",
    "library(patchwork,lib.loc = \"~/R\")\n",
    "library(ggridges)\n",
    "library(epitools, lib.loc=\"~/R\")\n",
    "library(ggExtra)\n",
    "library(naniar, lib.loc=\"~/R\")\n",
    "library(pROC)\n",
    "library(fs)"
   ]
  },
  {
   "cell_type": "code",
   "execution_count": null,
   "metadata": {},
   "outputs": [],
   "source": [
    "hgConvTable = unique(fread(\"sumstats-new/hgConversionTable.txt\", header = T, stringsAsFactors = F))\n",
    "\n",
    "mpraStats = read.table(\"sumstats-new/1KG_novaSeq_DESeq2_Love.txt\", header = T, stringsAsFactors = F)\n",
    "#mpraStats = read.table(\"sumstats-new/1KG_novaSeq_DESeq2_contrast.txt\", header = T, stringsAsFactors = F)\n",
    "#mpraStats = read.table(\"sumstats-new/1KG_novaSeq_DESeq2_interaction.txt\", header = T, stringsAsFactors = F)\n",
    "alleleTransform = fread(\"allelicMetric.txt\", sep = \"\\t\", stringsAsFactors = F)\n",
    "mpraStats$alleleTransform = alleleTransform$V2\n",
    "\n",
    "mpraStats.tmp = mpraStats[,c(3,4,5,6,7,8,9,23,27,29,33,34)]\n",
    "mpraStats.tmp = subset(mpraStats.tmp, haploFlag == \"Base\")"
   ]
  },
  {
   "cell_type": "code",
   "execution_count": null,
   "metadata": {},
   "outputs": [],
   "source": [
    "computeOddsRatios = function(labels, categories){\n",
    "    \n",
    "    oddsRatios = data.frame(\"label\" = as.character(),\n",
    "                        \"or\" = numeric(),\n",
    "                        \"lower\" = numeric(),\n",
    "                        \"upper\" = numeric(),\n",
    "                        \"midp.exact\" = numeric(),\n",
    "                        \"fisher.exact\" = numeric(),\n",
    "                        \"chi.square\" = numeric(), stringsAsFactors = F)\n",
    "    \n",
    "    uniqCategories = unique(categories[!is.na(categories)])\n",
    "    \n",
    "    for(categ in uniqCategories){\n",
    "        \n",
    "        idx = which(categories == categ | is.na(categories))\n",
    "        \n",
    "        testTable = table(labels[idx], is.na(categories[idx])) + 1\n",
    "        print(testTable)\n",
    "        print(oddsratio(testTable, correction = T))\n",
    "        testOddsRatio = suppressWarnings(oddsratio(testTable, correction = T))\n",
    "\n",
    "        estimates = testOddsRatio$measure[2,]\n",
    "        pvals = testOddsRatio$p.value[2,]\n",
    "\n",
    "        newRow = data.frame(\"label\" = as.character(categ),\n",
    "                            \"or\" = estimates[1],\n",
    "                            \"lower\" = estimates[2],\n",
    "                            \"upper\" = estimates[3],\n",
    "                            \"midp.exact\" = pvals[1],\n",
    "                            \"fisher.exact\" = pvals[2],\n",
    "                            \"chi.square\" = pvals[3], stringsAsFactors = F)\n",
    "\n",
    "        oddsRatios = rbind(oddsRatios, newRow)\n",
    "        \n",
    "    }\n",
    "    \n",
    "    oddsRatios$fisher.exact.bh = p.adjust(oddsRatios$fisher.exact, method = \"BH\")\n",
    "    return(oddsRatios)\n",
    "}"
   ]
  },
  {
   "cell_type": "markdown",
   "metadata": {},
   "source": [
    "## ADASTRA 2020 ASB "
   ]
  },
  {
   "cell_type": "code",
   "execution_count": null,
   "metadata": {},
   "outputs": [],
   "source": [
    "adastra = fread(\"GM12878-ADASTRA.tsv\", header = T, sep = \"\\t\", stringsAsFactors = F)\n",
    "adastra = separate_rows(adastra,`TF-ASBs`,sep = \",\")\n",
    "adastra = subset(adastra, `TF-ASBs` != \"\")\n",
    "adastra = adastra[grep(\"GM12878\",adastra$`Cell type-ASBs`),]\n",
    "\n",
    "adastra$`TF-ASBs` = gsub(\"_HUMAN\",\"\",adastra$`TF-ASBs`)\n",
    "\n",
    "adastra.id = merge(adastra, hgConvTable, by.x = c(\"Chromosome\",\"Position\"), by.y = c(\"hg38_chrom\",\"hg38_pos\"))\n",
    "mpra.adastra = merge(mpraStats.tmp, adastra.id, \n",
    "                     by.x = c(\"chrom\",\"pos\", \"ref\",\"alt\"), \n",
    "                     by.y = c(\"hg19_chrom\",\"hg19_pos\",\"Ref\",\"Alt\"))\n",
    "\n",
    "mpra.adastra$deltaEffect = mpra.adastra$`GM12878 (female B-cells lymphoblastoid cell line)_Effect_Size_Alt` - \n",
    "                            mpra.adastra$`GM12878 (female B-cells lymphoblastoid cell line)_Effect_Size_Ref`\n",
    "mpra.adastra$concord = ifelse(sign(mpra.adastra$deltaEffect) == sign(mpra.adastra$log2FoldChange_allele),\n",
    "                              \"Concordant\",\"Discordant\")\n",
    "\n",
    "mpra.adastra.all = merge(mpraStats.tmp, adastra.id, \n",
    "                     by.x = c(\"chrom\",\"pos\", \"ref\",\"alt\"), \n",
    "                     by.y = c(\"hg19_chrom\",\"hg19_pos\",\"Ref\",\"Alt\"),all.x = T)"
   ]
  },
  {
   "cell_type": "code",
   "execution_count": null,
   "metadata": {},
   "outputs": [],
   "source": [
    "hitList = ifelse(mpra.adastra.all$padj_allele <= 5e-2 & mpra.adastra.all$padj_expr <= 5e-2 &\n",
    "                 (mpra.adastra.all$`GM12878 (female B-cells lymphoblastoid cell line)_FDR_Ref` >= 0  |\n",
    "                  mpra.adastra.all$`GM12878 (female B-cells lymphoblastoid cell line)_FDR_Alt` >= 0  ),\n",
    "                 \"hit\",\"nonhit\")\n",
    "categs = mpra.adastra.all$`TF-ASBs`\n",
    "oddsRatios = computeOddsRatios(hitList, mpra.adastra.all$`TF-ASBs`)"
   ]
  },
  {
   "cell_type": "code",
   "execution_count": null,
   "metadata": {},
   "outputs": [],
   "source": [
    "pA = ggplot(subset(oddsRatios, fisher.exact.bh < 5e-2), \n",
    "            aes(y = reorder(label, log2(or)), x = log2(or))) + \n",
    "    geom_pointrange(aes(xmin = log2(lower), xmax = log2(upper)),stat = \"identity\") +\n",
    "    geom_vline(aes(xintercept = 0), color = \"red\") + \n",
    "    theme_pubr(base_size = 15) + \n",
    "    theme(axis.title.y = element_blank()) + \n",
    "    xlab(\"log2(odds ratio)\") + ylab(\"\")"
   ]
  },
  {
   "cell_type": "code",
   "execution_count": null,
   "metadata": {},
   "outputs": [],
   "source": [
    "mpra.adastra.subset = mpra.adastra %>% subset(padj_expr <= 5e-6 & \n",
    "                                              padj_allele <= 5e-2 & \n",
    "                                              (`GM12878 (female B-cells lymphoblastoid cell line)_FDR_Ref` >= 0| \n",
    "                                               `GM12878 (female B-cells lymphoblastoid cell line)_FDR_Alt` >= 0))\n",
    "\n",
    "p1 = mpra.adastra.subset %>%\n",
    "        ggplot(aes(y = log2FoldChange_allele, x = deltaEffect,  color = `TF-ASBs`)) + \n",
    "#            geom_text_repel(aes(label=`TF-ASBs`, vjust=0), position = \"jitter\") +\n",
    "            geom_point(size = 3) + \n",
    "            theme_pubr(base_size = 15) + \n",
    "            theme(legend.position = \"none\") + \n",
    "            xlab(\"ASB Effect Size\") + ylab(\"MPRA Allelic Effect Size\")\n",
    "\n",
    "p1 = mpra.adastra.subset %>%\n",
    "            group_by(chrom,pos,ref,alt,log2FoldChange_allele) %>% \n",
    "            summarize(\"meanEffect\" = max(deltaEffect), \"tf\" = paste0(unique(`TF-ASBs`),collapse = \",\\n\")) %>%\n",
    "            ggplot(aes(y = log2FoldChange_allele, x = meanEffect)) + \n",
    "                #geom_text_repel(aes(label=tf, vjust=0), position = \"jitter\") +\n",
    "                geom_point(size = 3) + \n",
    "                theme_pubr(base_size = 15)  + \n",
    "                theme(legend.position = \"none\") +\n",
    "                xlab(\"ADASTRA Effect Size\") + ylab(\"MPRA Allelic Effect Size\")\n",
    "\n",
    "p2 = mpra.adastra.subset %>%\n",
    "            group_by(`TF-ASBs`,concord) %>% \n",
    "            summarize(\"count\" = n()) %>% \n",
    "            spread(concord,count,fill = 0) %>%\n",
    "            ggplot(aes(y=reorder(`TF-ASBs`, Concordant+Discordant), yend=reorder(`TF-ASBs`, Concordant+Discordant))) + \n",
    "                geom_segment(aes(x=-1*Discordant, xend=0), size =9, color = \"red\") + \n",
    "                geom_segment(aes(x=0, xend=Concordant), size = 9, color = \"blue\") + \n",
    "                geom_vline(xintercept = 0) +\n",
    "                theme_pubr(base_size = 15) + \n",
    "                xlab(\"Number of Variants\") + ylab(\"\")\n",
    "\n",
    "pB = p1 / p2"
   ]
  },
  {
   "cell_type": "code",
   "execution_count": null,
   "metadata": {},
   "outputs": [],
   "source": [
    "options(repr.plot.width = 15, repr.plot.height = 12)\n",
    "pdf(\"Figure2-adastra.pdf\",width=15,height=12,useDingbats = F)\n",
    "pA + pB\n",
    "dev.off()"
   ]
  },
  {
   "cell_type": "code",
   "execution_count": null,
   "metadata": {},
   "outputs": [],
   "source": []
  },
  {
   "cell_type": "code",
   "execution_count": null,
   "metadata": {},
   "outputs": [],
   "source": []
  },
  {
   "cell_type": "code",
   "execution_count": null,
   "metadata": {},
   "outputs": [],
   "source": []
  }
 ],
 "metadata": {
  "kernelspec": {
   "display_name": "R",
   "language": "R",
   "name": "ir"
  },
  "language_info": {
   "codemirror_mode": "r",
   "file_extension": ".r",
   "mimetype": "text/x-r-source",
   "name": "R",
   "pygments_lexer": "r",
   "version": "3.6.3"
  }
 },
 "nbformat": 4,
 "nbformat_minor": 4
}
