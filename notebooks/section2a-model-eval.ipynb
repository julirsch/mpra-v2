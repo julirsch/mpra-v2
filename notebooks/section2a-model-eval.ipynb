{
 "cells": [
  {
   "cell_type": "markdown",
   "metadata": {},
   "source": [
    "# Section 2a: Comparing model summary statistics"
   ]
  },
  {
   "cell_type": "code",
   "execution_count": 2,
   "metadata": {},
   "outputs": [],
   "source": [
    "library(tidyverse)\n",
    "library(GGally)\n",
    "library(ggpubr)\n",
    "library(patchwork)\n",
    "library(ggrepel)\n",
    "library(data.table)\n",
    "library(scales)\n",
    "library(Gviz)\n",
    "\n",
    "absmax = function(x) { x[which.max( abs(x) )]}\n",
    "\n",
    "setwd(\"~/work/mpra-v2/\")"
   ]
  },
  {
   "cell_type": "code",
   "execution_count": 3,
   "metadata": {},
   "outputs": [],
   "source": [
    "interaction = fread(\"sumstats/1KG_novaSeq_DESeq2_interaction.txt\", header = T)\n",
    "love = fread(\"sumstats/1KG_novaSeq_DESeq2_Love_Base.txt\", header = T)\n",
    "contrast = fread(\"sumstats/1KG_novaSeq_DESeq2_contrast.txt\", header = T)\n",
    "\n",
    "love = subset(love, haploFlag == \"Base\")\n",
    "love$pos = as.character(love$pos)"
   ]
  },
  {
   "cell_type": "code",
   "execution_count": null,
   "metadata": {},
   "outputs": [],
   "source": [
    "tewhey = fread(\"annotation/Tewhey-stats.txt\")\n",
    "tewhey.hits = tewhey[which(tewhey$C.Skew.fdr > 1.3 & tewhey$Haplotype == \"ref\"),]\n",
    "\n",
    "rsid = fread(\"annotation/Tewhey-rsID-convert.txt\", drop = 2)\n",
    "names(rsid) = c(\"chrom\",\"pos\",\"SNP\")\n",
    "\n",
    "tewhey.rsid = merge(tewhey.hits, rsid, by = \"SNP\")\n",
    "tewhey.rsid$pos = as.character(tewhey.rsid$pos)\n",
    "\n",
    "tewhey.all = merge(tewhey, rsid, by = \"SNP\")\n",
    "tewhey.all$pos = as.character(tewhey.all$pos)"
   ]
  },
  {
   "cell_type": "code",
   "execution_count": null,
   "metadata": {},
   "outputs": [],
   "source": [
    "love$inTewhey = ifelse(interaction(love[,c(\"chrom\",\"pos\")]) %in% interaction(tewhey.rsid[,c(\"chrom\",\"pos\")]),\n",
    "                       \"yes\",\"no\")\n",
    "\n",
    "love$Pool[which(love$Pool == \"Sabeti\" & love$inTewhey == \"no\")] = \"1KGTest\"\n",
    "love$Pool[which(love$Pool != \"Sabeti\" & love$inTewhey == \"yes\")] = \"Sabeti\"\n",
    "\n",
    "love$strand = ifelse(love$strand == \"+\",\"pos\",\"neg\")"
   ]
  },
  {
   "cell_type": "code",
   "execution_count": null,
   "metadata": {},
   "outputs": [],
   "source": [
    "options(repr.plot.width = 5, repr.plot.height= 7)\n",
    "separate_rows(love, geneID, sep=\",\") %>% group_by(geneID) %>% summarize(\"count\" = n()) %>% \n",
    "    ggplot() + \n",
    "        geom_histogram(aes(x = count), bins = 17, color = \"white\", fill = \"black\") + \n",
    "        theme_pubr(base_size = 15) + \n",
    "        scale_x_continuous(trans = \"log2\") + xlab(\"Number of Variants with MPRA Scores\") + ylab(\"Number of Genes\")"
   ]
  },
  {
   "cell_type": "code",
   "execution_count": null,
   "metadata": {},
   "outputs": [],
   "source": [
    "ggd.qqplot_ci = function(xsList, ci=0.95, Main=NULL) {\n",
    "    cbp1 = c(\"#E69F00\", \"#56B4E9\", \"#009E73\",\"#F0E442\", \"#0072B2\", \"#D55E00\", \"#CC79A7\")\n",
    "    p = ggplot() + \n",
    "            geom_abline(intercept=0, slope=1, alpha=0.5) + \n",
    "            ggtitle(Main) + \n",
    "            theme(plot.title = element_text(hjust = 0.5))\n",
    "    labels = names(xsList)\n",
    "    colLabels = c()\n",
    "    for(i in seq(1,length(xsList),1)){\n",
    "        xs = xsList[[i]]\n",
    "        label = labels[i]\n",
    "        N = length(xs)\n",
    "        df = data.frame(observed=-log10(sort(xs)), \n",
    "                        expected=-log10(1:N / N), \n",
    "                        cupper=-log10(qbeta(ci, 1:N, N - 1:N + 1)),\n",
    "                        clower=-log10(qbeta(1 - ci, 1:N, N - 1:N + 1)))\n",
    "        p = p + geom_point(data = df, aes(expected, observed),\n",
    "                           color = cbp1[i],\n",
    "                           shape=19,\n",
    "                           size=3)\n",
    "        colLabels = c(colLabels,label)\n",
    "        names(colLabels)[i] = cbp1[i]\n",
    "        }\n",
    "    p = p + scale_color_manual(values=colLabels, guide=\"legend\")\n",
    "    return(p)\n",
    "}"
   ]
  },
  {
   "cell_type": "code",
   "execution_count": null,
   "metadata": {},
   "outputs": [],
   "source": [
    "pC = ggd.qqplot_ci(list(\"tewhey\" = subset(love, Pool == \"Sabeti\" , select = pvalue_expr)$pvalue_expr,\n",
    "                   \"test\" = subset(love, Pool == \"1KGTest\" , select = pvalue_expr)$pvalue_expr,\n",
    "                   \"contrrol\" = subset(love, Pool == \"1KGControl\" , select = pvalue_expr)$pvalue_expr)) +\n",
    "    theme_pubr(base_size = 15)"
   ]
  },
  {
   "cell_type": "code",
   "execution_count": null,
   "metadata": {},
   "outputs": [],
   "source": [
    "pD = ggd.qqplot_ci(list(\"tewhey\" = subset(love, Pool == \"Sabeti\", select = pvalue_allele)$pvalue_allele,\n",
    "                   \"test\" = subset(love, Pool == \"1KGTest\", select = pvalue_allele)$pvalue_allele,\n",
    "                   \"contrrol\" = subset(love, Pool == \"1KGControl\" , select = pvalue_allele)$pvalue_allele)) + \n",
    "    ylim(c(0,35)) +\n",
    "    theme_pubr(base_size = 15)"
   ]
  },
  {
   "cell_type": "code",
   "execution_count": null,
   "metadata": {},
   "outputs": [],
   "source": [
    "hitProps = data.frame(\"exprProps\" = as.numeric(table(love$Pool[which(love$padj_expr < 5e-2)]) / table(love$Pool)),\n",
    "                      \"alleleProps\" = as.numeric(table(love$Pool[which(love$padj_allele < 5e-2 )]) / table(love$Pool)))\n",
    "hitProps$group = c(\"Non-eQTL\",\"eQTL\",\"Tewhey\")"
   ]
  },
  {
   "cell_type": "code",
   "execution_count": null,
   "metadata": {},
   "outputs": [],
   "source": [
    "cbp1 = c(\"#E69F00\", \"#56B4E9\", \"#009E73\",\"#F0E442\", \"#0072B2\", \"#D55E00\", \"#CC79A7\")\n",
    "colorList = cbp1[c(2,3,1)]\n",
    "names(colorList) = hitProps$Pool\n",
    "\n",
    "pC1 = ggplot(hitProps) + \n",
    "    geom_bar(aes(x = group, y = exprProps, fill = group),  stat = \"identity\") + \n",
    "    geom_text(aes(x = group, y = exprProps - 0.025, label = as.character(round(exprProps,digits = 3))), size = 6.5) + \n",
    "    scale_fill_manual(values = colorList) + labs(y = \"Proportion of \\nVariants with Effect\") +\n",
    "    theme_pubr(legend = \"none\", base_size = 18,x.text.angle = 45)  + \n",
    "    theme(axis.title.x = element_blank())\n",
    "\n",
    "pD1 = ggplot(hitProps) + \n",
    "    geom_bar(aes(x = group, y = alleleProps, fill = group),  stat = \"identity\") + \n",
    "    geom_text(aes(x = group, y = alleleProps - 0.0125, label = as.character(round(alleleProps,digits = 3))), size = 6.5) + \n",
    "    scale_fill_manual(values = colorList) + labs(y = \"Proportion of \\nVariants with Effect\") +\n",
    "    theme_pubr(legend = \"none\", base_size = 18,x.text.angle = 45)  + \n",
    "    theme(axis.title.x = element_blank())"
   ]
  },
  {
   "cell_type": "code",
   "execution_count": null,
   "metadata": {},
   "outputs": [],
   "source": [
    "options(repr.plot.width = 10, repr.plot.height = 5)\n",
    "pC + pD"
   ]
  },
  {
   "cell_type": "code",
   "execution_count": null,
   "metadata": {},
   "outputs": [],
   "source": [
    "options(repr.plot.width = 10, repr.plot.height = 5)\n",
    "pC1 + pD1"
   ]
  },
  {
   "cell_type": "code",
   "execution_count": null,
   "metadata": {},
   "outputs": [],
   "source": [
    "loveTewhey = merge(love, tewhey.rsid, by.x = c(\"chrom\",\"pos\",\"strand\"), by.y = c(\"chrom\",\"pos\",\"Direction\"))\n",
    "loveTewheyAll = merge(love, tewhey.all, by.x = c(\"chrom\",\"pos\",\"strand\"), by.y = c(\"chrom\",\"pos\",\"Direction\"))\n",
    "\n",
    "loveTewheyAll$group = \"Neither\"\n",
    "loveTewheyAll$group[which(loveTewheyAll$padj_allele < 5e-2 & loveTewheyAll$padj_expr < 5e-2)] = \"Abell et al Only\"\n",
    "loveTewheyAll$group[which(loveTewheyAll$C.Skew.fdr > 1.3)] = \"Tewhey et al Only\"\n",
    "loveTewheyAll$group[which(loveTewheyAll$padj_allele < 5e-2 & loveTewheyAll$padj_expr < 5e-2 & loveTewheyAll$C.Skew.fdr > 1.3)] = \"Both\"\n"
   ]
  },
  {
   "cell_type": "code",
   "execution_count": null,
   "metadata": {},
   "outputs": [],
   "source": [
    "options(repr.plot.width = 5, repr.plot.height = 7)\n",
    "\n",
    "loveTewheyAll %>% \n",
    "    group_by(group) %>% \n",
    "    summarize(prop = sum(sign(log2FoldChange_allele) == sign(LogSkew.Comb))/length(LogSkew.Comb)) %>%\n",
    "    ggplot(aes(x = reorder(group, prop), y = prop, fill = group)) + \n",
    "    geom_bar(stat = \"identity\") + \n",
    "    geom_text(aes(y = prop + 0.04, label = round(prop, 3)), size = 8) +\n",
    "    theme_pubr(base_size = 15, x.text.angle = 45) + \n",
    "    theme(legend.position = \"none\") +\n",
    "    xlab(\"\") + ylab(\"Proportion Concordant\") + ylim(c(0,1)) +\n",
    "    scale_fill_manual(values = c(\"Neither\" = \"#E69F00\",\n",
    "                                 \"Abell et al Only\" = \"#56B4E9\",\n",
    "                                 \"Tewhey et al Only\" = \"#009E73\",\n",
    "                                 \"Both\" = \"#D55E00\"))"
   ]
  },
  {
   "cell_type": "code",
   "execution_count": null,
   "metadata": {},
   "outputs": [],
   "source": [
    "options(repr.plot.width = 6, repr.plot.height = 6)\n",
    "\n",
    "ggplot(loveTewheyAll, aes(x = log2FoldChange_allele, y = LogSkew.Comb)) + \n",
    "    geom_point(aes(alpha = ifelse(padj_allele < 5e-2 &\n",
    "                                  sign(LogSkew.Comb) == sign(log2FoldChange_allele) &\n",
    "                                  C.Skew.fdr > 1.3,1,0.2),\n",
    "                   color = ifelse(padj_allele < 5e-2 &\n",
    "                                  sign(LogSkew.Comb) == sign(log2FoldChange_allele) &\n",
    "                                  C.Skew.fdr > 1.3,\"red\",\"black\")),\n",
    "               size = 3) + \n",
    "    theme_pubr(base_size = 15) + \n",
    "    geom_hline(yintercept = 0) + geom_vline(xintercept = 0) + \n",
    "    xlab(\"Abell et al Allelic Effect Size\") +\n",
    "    ylab(\"Tewhey et al Log Skew\") +\n",
    "    scale_color_manual(values = c(\"red\" = \"red\", \"black\" = \"black\")) +\n",
    "    theme(legend.position = \"none\")"
   ]
  },
  {
   "cell_type": "code",
   "execution_count": null,
   "metadata": {},
   "outputs": [],
   "source": [
    "options(repr.plot.width = 6, repr.plot.height = 6)\n",
    "\n",
    "loveTewheyAll$inList = \"no\"\n",
    "loveTewheyAll$inList[which(loveTewheyAll$padj_expr < 5e-2 &\n",
    "                           loveTewheyAll$C.Skew.fdr > 1.3 &\n",
    "                           sign(loveTewheyAll$log2FoldChange_expr) == sign(loveTewheyAll$C.A.log2FC + loveTewheyAll$C.B.log2FC)  &\n",
    "                           abs( ((loveTewheyAll$C.A.log2FC + loveTewheyAll$C.B.log2FC)/2) - loveTewheyAll$log2FoldChange_expr) < 1.32)] = \"yes\"\n",
    "\n",
    "ggplot(loveTewheyAll,\n",
    "       aes(x = log2FoldChange_expr,\n",
    "           y = (C.A.log2FC + C.B.log2FC)/2)) + \n",
    "    geom_point(aes(alpha = ifelse(inList == \"yes\", 1,0.2),\n",
    "                   color = ifelse(inList == \"yes\", \"red\",\"black\")),\n",
    "               size = 3) + \n",
    "    theme_pubr(base_size = 15) + \n",
    "    geom_hline(yintercept = 0) + geom_vline(xintercept = 0) + \n",
    "    ylim(-0.75,5) +\n",
    "    xlab(\"Abell et al Expression Effect Size\") +\n",
    "    ylab(\"Tewhey et al Mean Log Fold Change\") +\n",
    "    scale_color_manual(values = c(\"red\" = \"red\", \"black\" = \"black\")) +\n",
    "    theme(legend.position = \"none\")"
   ]
  },
  {
   "cell_type": "code",
   "execution_count": null,
   "metadata": {},
   "outputs": [],
   "source": [
    "love$chromPos = paste0(love$chrom, \"_\", love$pos)\n",
    "from = 41175000\n",
    "to = 41425000\n",
    "knownGenes = UcscTrack(genome = \"hg19\", chromosome = \"chr17\", \n",
    "                        track = \"GENCODE Genes V19\", from = from, to = to,\n",
    "                        trackType = \"GeneRegionTrack\", \n",
    "                        rstarts = \"exonStarts\", rends = \"exonEnds\", \n",
    "                        gene = \"name2\", symbol = \"name2\", \n",
    "                        transcript = \"name\", strand = \"strand\", \n",
    "                        fill = \"black\", name = \"UCSC Genes\", col = \"black\", \n",
    "                        fontcolor = \"black\", cex = 2)"
   ]
  },
  {
   "cell_type": "code",
   "execution_count": null,
   "metadata": {},
   "outputs": [],
   "source": [
    "axTrack = GenomeAxisTrack(col = \"black\", fontcolor = \"black\", cex = 2)"
   ]
  },
  {
   "cell_type": "code",
   "execution_count": null,
   "metadata": {},
   "outputs": [],
   "source": [
    "options(repr.plot.width = 20, repr.plot.height = 5)\n",
    "coeff = 0.25\n",
    "\n",
    "#pdf(\"Figure1E.pdf\",width = 20, height = 5, useDingbats = F)\n",
    "\n",
    "ggplot(subset(love, geneID == \"ENSG00000012048\"),aes(x = as.numeric(pos), label = chromPos)) + \n",
    "    geom_point(aes(y = -log(pvalue_expr), color = ifelse(pvalue_expr < 0.01,'red','black')),size = 7) +\n",
    "    geom_point(aes(y = -log(pvalue_allele)/coeff, color = ifelse(pvalue_allele < 0.01,'dodgerblue','black')),size = 7) +\n",
    "    theme_classic() +\n",
    "        theme(text = element_text(size = 16), axis.text.x = element_blank(), axis.title.x = element_blank()) +\n",
    "    #geom_label_repel(data = subset(love, geneID == \"ENSG00000012048\" & -log(pvalue_expr) > 100), size = 6, point.padding = 2) +\n",
    "    scale_x_continuous(limits = c(41175000,41425000), breaks = c(41200000,41300000,41400000)) + scale_color_identity() +\n",
    "    scale_y_continuous(name = \"-log(expression p-value)\",sec.axis = sec_axis(~.*coeff, name=\"-log(allelic p-value)\")\n",
    "  )\n",
    "\n",
    "plotTracks(list(axTrack, knownGenes), \n",
    "           from = from, to = to, showTitle = FALSE,fill=\"red\",fontcolor = \"black\", showId = TRUE)\n",
    "\n",
    "#dev.off()"
   ]
  },
  {
   "cell_type": "code",
   "execution_count": null,
   "metadata": {},
   "outputs": [],
   "source": [
    "sessionInfo()"
   ]
  }
 ],
 "metadata": {
  "kernelspec": {
   "display_name": "R",
   "language": "R",
   "name": "ir"
  },
  "language_info": {
   "codemirror_mode": "r",
   "file_extension": ".r",
   "mimetype": "text/x-r-source",
   "name": "R",
   "pygments_lexer": "r",
   "version": "3.6.0"
  }
 },
 "nbformat": 4,
 "nbformat_minor": 4
}
